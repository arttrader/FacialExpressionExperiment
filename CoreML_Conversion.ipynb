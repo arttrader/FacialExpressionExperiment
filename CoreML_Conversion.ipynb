{
  "nbformat": 4,
  "nbformat_minor": 0,
  "metadata": {
    "colab": {
      "name": "CoreML Conversion",
      "provenance": [],
      "private_outputs": true,
      "collapsed_sections": [],
      "include_colab_link": true
    },
    "kernelspec": {
      "name": "python3",
      "display_name": "Python 3"
    }
  },
  "cells": [
    {
      "cell_type": "markdown",
      "metadata": {
        "id": "view-in-github",
        "colab_type": "text"
      },
      "source": [
        "<a href=\"https://colab.research.google.com/github/arttrader/FacialExpressionExperiment/blob/master/CoreML_Conversion.ipynb\" target=\"_parent\"><img src=\"https://colab.research.google.com/assets/colab-badge.svg\" alt=\"Open In Colab\"/></a>"
      ]
    },
    {
      "cell_type": "code",
      "metadata": {
        "id": "nGiaDABmPk09",
        "colab_type": "code",
        "colab": {}
      },
      "source": [
        "!pip install coremltools"
      ],
      "execution_count": 0,
      "outputs": []
    },
    {
      "cell_type": "code",
      "metadata": {
        "id": "VdAirOjDQOoF",
        "colab_type": "code",
        "colab": {}
      },
      "source": [
        "# import necessary packages\n",
        "from keras.models import load_model\n",
        "import coremltools\n",
        "import argparse\n",
        "import pickle\n",
        " \n",
        "# construct the argument parser and parse the arguments\n",
        "ap = argparse.ArgumentParser()\n",
        "ap.add_argument(\"-m\", \"--model\", required=True,\n",
        "\thelp=\"path to trained model model\")\n",
        "ap.add_argument(\"-l\", \"--labelbin\", required=True,\n",
        "\thelp=\"path to label binarizer\")\n",
        "args = vars(ap.parse_args())"
      ],
      "execution_count": 0,
      "outputs": []
    },
    {
      "cell_type": "code",
      "metadata": {
        "id": "XPTTqhBrQmtH",
        "colab_type": "code",
        "colab": {}
      },
      "source": [
        "# load the class labels\n",
        "print(\"[INFO] loading class labels from label binarizer\")\n",
        "lb = pickle.loads(open(args[\"labelbin\"], \"rb\").read())\n",
        "class_labels = lb.classes_.tolist()\n",
        "print(\"[INFO] class labels: {}\".format(class_labels))\n",
        " \n",
        "# load the trained convolutional neural network\n",
        "print(\"[INFO] loading model...\")\n",
        "model = load_model(args[\"model\"])"
      ],
      "execution_count": 0,
      "outputs": []
    },
    {
      "cell_type": "markdown",
      "metadata": {
        "id": "XpVSDSQ-3tyH",
        "colab_type": "text"
      },
      "source": [
        ""
      ]
    },
    {
      "cell_type": "code",
      "metadata": {
        "id": "VcDOMRdrQsQE",
        "colab_type": "code",
        "colab": {}
      },
      "source": [
        "# convert the model to coreml format\n",
        "print(\"[INFO] converting model\")\n",
        "coreml_model = coremltools.converters.keras.convert(model,\n",
        "\tinput_names=\"image\",\n",
        "\timage_input_names=\"image\",\n",
        "\timage_scale=1/255.0,\n",
        "\tclass_labels=class_labels,\n",
        "\tis_bgr=True)"
      ],
      "execution_count": 0,
      "outputs": []
    },
    {
      "cell_type": "code",
      "metadata": {
        "id": "j0L5PTqNQvKG",
        "colab_type": "code",
        "colab": {}
      },
      "source": [
        "# save the model to disk\n",
        "output = args[\"model\"].rsplit(\".\", 1)[0] + \".mlmodel\"\n",
        "print(\"[INFO] saving model as {}\".format(output))\n",
        "coreml_model.save(output)"
      ],
      "execution_count": 0,
      "outputs": []
    }
  ]
}